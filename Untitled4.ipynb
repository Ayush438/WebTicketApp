{
  "nbformat": 4,
  "nbformat_minor": 0,
  "metadata": {
    "colab": {
      "provenance": [],
      "gpuType": "T4",
      "authorship_tag": "ABX9TyPZLZIh8pQT7ZwS3dBfKHKC",
      "include_colab_link": true
    },
    "kernelspec": {
      "name": "python3",
      "display_name": "Python 3"
    },
    "language_info": {
      "name": "python"
    },
    "accelerator": "GPU"
  },
  "cells": [
    {
      "cell_type": "markdown",
      "metadata": {
        "id": "view-in-github",
        "colab_type": "text"
      },
      "source": [
        "<a href=\"https://colab.research.google.com/github/Ayush438/WebTicketApp/blob/master/Untitled4.ipynb\" target=\"_parent\"><img src=\"https://colab.research.google.com/assets/colab-badge.svg\" alt=\"Open In Colab\"/></a>"
      ]
    },
    {
      "cell_type": "code",
      "execution_count": 2,
      "metadata": {
        "colab": {
          "base_uri": "https://localhost:8080/",
          "height": 0
        },
        "id": "bdqx0MNjIsrF",
        "outputId": "436ba8a0-8739-485c-fa8d-233890670808"
      },
      "outputs": [
        {
          "output_type": "stream",
          "name": "stdout",
          "text": [
            "Mounted at /content/drive\n"
          ]
        }
      ],
      "source": [
        "from google.colab import drive\n",
        "drive.mount('/content/drive')"
      ]
    },
    {
      "cell_type": "code",
      "source": [
        "pip install face_recognition"
      ],
      "metadata": {
        "colab": {
          "base_uri": "https://localhost:8080/",
          "height": 0
        },
        "id": "v_tGlUUyJ14d",
        "outputId": "ad02aa53-9fc0-4f5f-a085-bff636903284"
      },
      "execution_count": 3,
      "outputs": [
        {
          "output_type": "stream",
          "name": "stdout",
          "text": [
            "Collecting face_recognition\n",
            "  Downloading face_recognition-1.3.0-py2.py3-none-any.whl (15 kB)\n",
            "Collecting face-recognition-models>=0.3.0 (from face_recognition)\n",
            "  Downloading face_recognition_models-0.3.0.tar.gz (100.1 MB)\n",
            "\u001b[2K     \u001b[90m━━━━━━━━━━━━━━━━━━━━━━━━━━━━━━━━━━━━━━━━\u001b[0m \u001b[32m100.1/100.1 MB\u001b[0m \u001b[31m10.8 MB/s\u001b[0m eta \u001b[36m0:00:00\u001b[0m\n",
            "\u001b[?25h  Preparing metadata (setup.py) ... \u001b[?25l\u001b[?25hdone\n",
            "Requirement already satisfied: Click>=6.0 in /usr/local/lib/python3.10/dist-packages (from face_recognition) (8.1.7)\n",
            "Requirement already satisfied: dlib>=19.7 in /usr/local/lib/python3.10/dist-packages (from face_recognition) (19.24.2)\n",
            "Requirement already satisfied: numpy in /usr/local/lib/python3.10/dist-packages (from face_recognition) (1.23.5)\n",
            "Requirement already satisfied: Pillow in /usr/local/lib/python3.10/dist-packages (from face_recognition) (9.4.0)\n",
            "Building wheels for collected packages: face-recognition-models\n",
            "  Building wheel for face-recognition-models (setup.py) ... \u001b[?25l\u001b[?25hdone\n",
            "  Created wheel for face-recognition-models: filename=face_recognition_models-0.3.0-py2.py3-none-any.whl size=100566170 sha256=6afc1cc5fd93114f1fbbc0df0ee609b4c48dc171f6a1fc8bce19e4f3269249a6\n",
            "  Stored in directory: /root/.cache/pip/wheels/7a/eb/cf/e9eced74122b679557f597bb7c8e4c739cfcac526db1fd523d\n",
            "Successfully built face-recognition-models\n",
            "Installing collected packages: face-recognition-models, face_recognition\n",
            "Successfully installed face-recognition-models-0.3.0 face_recognition-1.3.0\n"
          ]
        }
      ]
    },
    {
      "cell_type": "code",
      "source": [
        "import torch\n",
        "print(torch.cuda.is_available())"
      ],
      "metadata": {
        "colab": {
          "base_uri": "https://localhost:8080/",
          "height": 0
        },
        "id": "xzw2ev8O3D4e",
        "outputId": "2cb83e9d-d3dc-499e-d01a-6e12903752e7"
      },
      "execution_count": 4,
      "outputs": [
        {
          "output_type": "stream",
          "name": "stdout",
          "text": [
            "True\n"
          ]
        }
      ]
    },
    {
      "cell_type": "code",
      "source": [
        "#THis code is to check if the video is corrupted or not..\n",
        "#If the video is corrupted delete the video.\n",
        "import glob\n",
        "import torch\n",
        "import torchvision\n",
        "from torchvision import transforms\n",
        "from torch.utils.data import DataLoader\n",
        "from torch.utils.data.dataset import Dataset\n",
        "import os\n",
        "import numpy as np\n",
        "import cv2\n",
        "import matplotlib.pyplot as plt\n",
        "import face_recognition\n",
        "#Check if the file is corrupted or not\n",
        "def validate_video(vid_path,train_transforms):\n",
        "      transform = train_transforms\n",
        "      count = 20\n",
        "      video_path = vid_path\n",
        "      frames = []\n",
        "      a = int(100/count)\n",
        "      first_frame = np.random.randint(0,a)\n",
        "      temp_video = video_path.split('/')[-1]\n",
        "      for i,frame in enumerate(frame_extract(video_path)):\n",
        "        frames.append(transform(frame))\n",
        "        if(len(frames) == count):\n",
        "          break\n",
        "      frames = torch.stack(frames)\n",
        "      frames = frames[:count]\n",
        "      return frames\n",
        "#extract a from from video\n",
        "def frame_extract(path):\n",
        "  vidObj = cv2.VideoCapture(path)\n",
        "  success = 1\n",
        "  while success:\n",
        "      success, image = vidObj.read()\n",
        "      if success:\n",
        "          yield image\n",
        "\n",
        "im_size = 112\n",
        "mean = [0.485, 0.456, 0.406]\n",
        "std = [0.229, 0.224, 0.225]\n",
        "\n",
        "train_transforms = transforms.Compose([\n",
        "                                        transforms.ToPILImage(),\n",
        "                                        transforms.Resize((im_size,im_size)),\n",
        "                                        transforms.ToTensor(),\n",
        "                                        transforms.Normalize(mean,std)])\n",
        "\n",
        "video_fil = glob.glob('/content/drive/MyDrive/temp_Face_only_data/*.mp4')\n",
        "print(\"Total no of videos :\" , len(video_fil))\n",
        "print(video_fil)\n",
        "count = 0;\n",
        "for i in video_fil:\n",
        "  try:\n",
        "    validate_video(i,train_transforms)\n",
        "    count+=1\n",
        "  except:\n",
        "    print(\"Number of video processed: \" , count ,\" Remaining : \" , (len(video_fil) - count))\n",
        "    print(\"Corrupted video is : \" , i)\n",
        "    continue\n",
        "print((len(video_fil) - count))"
      ],
      "metadata": {
        "colab": {
          "base_uri": "https://localhost:8080/",
          "height": 0
        },
        "id": "U7GTreEsI3gM",
        "outputId": "c36d7a80-6cf7-44f0-cdbf-379473b5a8e2"
      },
      "execution_count": 5,
      "outputs": [
        {
          "output_type": "stream",
          "name": "stdout",
          "text": [
            "Total no of videos : 42\n",
            "['/content/drive/MyDrive/temp_Face_only_data/xpqlcziqqb.mp4', '/content/drive/MyDrive/temp_Face_only_data/xgykwwczjw.mp4', '/content/drive/MyDrive/temp_Face_only_data/xenrrjivnr.mp4', '/content/drive/MyDrive/temp_Face_only_data/xqofjuekpv.mp4', '/content/drive/MyDrive/temp_Face_only_data/xqpkmgfyhn.mp4', '/content/drive/MyDrive/temp_Face_only_data/xmbtnyfimf.mp4', '/content/drive/MyDrive/temp_Face_only_data/xnevdkbmkd.mp4', '/content/drive/MyDrive/temp_Face_only_data/xfpznkgirw.mp4', '/content/drive/MyDrive/temp_Face_only_data/xhourslujq.mp4', '/content/drive/MyDrive/temp_Face_only_data/xljemofssi.mp4', '/content/drive/MyDrive/temp_Face_only_data/xjzmkuxskq.mp4', '/content/drive/MyDrive/temp_Face_only_data/xttqggwaze.mp4', '/content/drive/MyDrive/temp_Face_only_data/xvoslmyksa.mp4', '/content/drive/MyDrive/temp_Face_only_data/xiizouutms.mp4', '/content/drive/MyDrive/temp_Face_only_data/xiflwiywqo.mp4', '/content/drive/MyDrive/temp_Face_only_data/xkfaumdhlx.mp4', '/content/drive/MyDrive/temp_Face_only_data/xjvxtuakyd.mp4', '/content/drive/MyDrive/temp_Face_only_data/xdoaxlerbq.mp4', '/content/drive/MyDrive/temp_Face_only_data/xltymjdxqc.mp4', '/content/drive/MyDrive/temp_Face_only_data/xnyryxpmoo.mp4', '/content/drive/MyDrive/temp_Face_only_data/xgysbrbsjv.mp4', '/content/drive/MyDrive/temp_Face_only_data/xkqusyptmm.mp4', '/content/drive/MyDrive/temp_Face_only_data/xudthxgqhr.mp4', '/content/drive/MyDrive/temp_Face_only_data/xkicasophk.mp4', '/content/drive/MyDrive/temp_Face_only_data/xsnnqhhdto.mp4', '/content/drive/MyDrive/temp_Face_only_data/xonsffcpsi.mp4', '/content/drive/MyDrive/temp_Face_only_data/xsswirhdze.mp4', '/content/drive/MyDrive/temp_Face_only_data/xgelqxcxdy.mp4', '/content/drive/MyDrive/temp_Face_only_data/xhwnzeozrd.mp4', '/content/drive/MyDrive/temp_Face_only_data/xrhqtmxlvx.mp4', '/content/drive/MyDrive/temp_Face_only_data/xqgpccecnt.mp4', '/content/drive/MyDrive/temp_Face_only_data/xuoqfchsfj.mp4', '/content/drive/MyDrive/temp_Face_only_data/xrenkfjbqa.mp4', '/content/drive/MyDrive/temp_Face_only_data/xtugoihhbm.mp4', '/content/drive/MyDrive/temp_Face_only_data/xsqzctwhge.mp4', '/content/drive/MyDrive/temp_Face_only_data/xvapotlvyf.mp4', '/content/drive/MyDrive/temp_Face_only_data/xrxizzwyxk.mp4', '/content/drive/MyDrive/temp_Face_only_data/amczvybpav.mp4', '/content/drive/MyDrive/temp_Face_only_data/wyuwbkywwa.mp4', '/content/drive/MyDrive/temp_Face_only_data/xaaopsrhpu.mp4', '/content/drive/MyDrive/temp_Face_only_data/xbzpmcskkd.mp4', '/content/drive/MyDrive/temp_Face_only_data/xcigzlpywx.mp4']\n",
            "0\n"
          ]
        }
      ]
    },
    {
      "cell_type": "code",
      "source": [
        "#to load preprocessod video to memory\n",
        "import json\n",
        "import glob\n",
        "import numpy as np\n",
        "import cv2\n",
        "import copy\n",
        "import random\n",
        "\n",
        "video_files = glob.glob('/content/drive/MyDrive/temp_Face_only_data/*.mp4')\n",
        "random.shuffle(video_files)\n",
        "random.shuffle(video_files)\n",
        "frame_count = []\n",
        "for video_file in video_files:\n",
        "  cap = cv2.VideoCapture(video_file)\n",
        "  if(int(cap.get(cv2.CAP_PROP_FRAME_COUNT))<100):\n",
        "    video_files.remove(video_file)\n",
        "    continue\n",
        "  frame_count.append(int(cap.get(cv2.CAP_PROP_FRAME_COUNT)))\n",
        "print(\"frames are \" , frame_count)\n",
        "print(\"Total no of video: \" , len(frame_count))\n",
        "print('Average frame per video:',np.mean(frame_count))\n",
        "print(len(video_files))"
      ],
      "metadata": {
        "colab": {
          "base_uri": "https://localhost:8080/",
          "height": 0
        },
        "id": "evt9X83qKrQw",
        "outputId": "33d89a85-6b6b-4ef8-ad01-f7001254dc76"
      },
      "execution_count": 6,
      "outputs": [
        {
          "output_type": "stream",
          "name": "stdout",
          "text": [
            "frames are  [148, 101, 148, 147, 148, 148, 148, 148, 148, 148, 142, 148, 136, 148, 148, 148, 148, 148, 148, 148, 148, 148, 148, 148, 148, 148, 148, 148, 132, 134, 147, 148, 142, 148, 148, 148, 148, 148, 148, 148, 148, 148]\n",
            "Total no of video:  42\n",
            "Average frame per video: 145.54761904761904\n",
            "42\n"
          ]
        }
      ]
    },
    {
      "cell_type": "code",
      "source": [
        "# load the video name and labels from csv\n",
        "import torch\n",
        "import torchvision\n",
        "from torchvision import transforms\n",
        "from torch.utils.data import DataLoader\n",
        "from torch.utils.data.dataset import Dataset\n",
        "import os\n",
        "import numpy as np\n",
        "import cv2\n",
        "import matplotlib.pyplot as plt\n",
        "import face_recognition\n",
        "class video_dataset(Dataset):\n",
        "    def __init__(self,video_names,labels,sequence_length = 60,transform = None):\n",
        "        self.video_names = video_names\n",
        "        self.labels = labels\n",
        "        self.transform = transform\n",
        "        self.count = sequence_length\n",
        "    def __len__(self):\n",
        "        return len(self.video_names)\n",
        "    def __getitem__(self,idx):\n",
        "        video_path = self.video_names[idx]\n",
        "        frames = []\n",
        "        a = int(100/self.count)\n",
        "        first_frame = np.random.randint(0,a)\n",
        "        temp_video = video_path.split('/')[-1]\n",
        "        #print(temp_video)\n",
        "        label = self.labels.iloc[(labels.loc[labels[\"file\"] == temp_video].index.values[0]),1]\n",
        "        if(label == 'FAKE'):\n",
        "          label = 0\n",
        "        if(label == 'REAL'):\n",
        "          label = 1\n",
        "        for i,frame in enumerate(self.frame_extract(video_path)):\n",
        "          frames.append(self.transform(frame))\n",
        "          if(len(frames) == self.count):\n",
        "            break\n",
        "        frames = torch.stack(frames)\n",
        "        frames = frames[:self.count]\n",
        "        #print(\"length:\" , len(frames), \"label\",label)\n",
        "        return frames,label\n",
        "    def frame_extract(self,path):\n",
        "      vidObj = cv2.VideoCapture(path)\n",
        "      success = 1\n",
        "      while success:\n",
        "          success, image = vidObj.read()\n",
        "          if success:\n",
        "              yield image\n",
        "#plot the image\n",
        "def im_plot(tensor):\n",
        "    image = tensor.cpu().numpy().transpose(1,2,0)\n",
        "    b,g,r = cv2.split(image)\n",
        "    image = cv2.merge((r,g,b))\n",
        "    image = image*[0.22803, 0.22145, 0.216989] +  [0.43216, 0.394666, 0.37645]\n",
        "    #image = image*255.0\n",
        "    #plt.imshow(image.astype(int))\n",
        "    image = np.clip(image * 255.0, 0, 255).astype(np.uint8)  # Clip to [0, 255] and convert to uint8\n",
        "\n",
        "    # Display the image using matplotlib\n",
        "    plt.imshow(image)\n",
        "    plt.show()"
      ],
      "metadata": {
        "id": "Tu7WzX3sK3jG"
      },
      "execution_count": 7,
      "outputs": []
    },
    {
      "cell_type": "code",
      "source": [
        "#count the number of fake and real videos\n",
        "def number_of_real_and_fake_videos(data_list):\n",
        "  header_list = [\"file\",\"label\"]\n",
        "  lab = pd.read_csv('/content/drive/MyDrive/meta/Gobal_metadata.csv',names=header_list)\n",
        "  fake = 0\n",
        "  real = 0\n",
        "  for i in data_list:\n",
        "    temp_video = i.split('/')[-1]\n",
        "    try:\n",
        "     label = lab.iloc[(labels.loc[labels[\"file\"] == temp_video].index.values[0]),1]\n",
        "     if(label == 'FAKE'):\n",
        "       fake+=1\n",
        "     if(label == 'REAL'):\n",
        "       real+=1\n",
        "    except:\n",
        "      data_list.remove(i)\n",
        "  return real,fake"
      ],
      "metadata": {
        "id": "Pj9YwNCyK7Dd"
      },
      "execution_count": 8,
      "outputs": []
    },
    {
      "cell_type": "code",
      "source": [
        "# load the labels and video in data loader\n",
        "import random\n",
        "import pandas as pd\n",
        "from sklearn.model_selection import train_test_split\n",
        "\n",
        "header_list = [\"file\",\"label\"]\n",
        "labels = pd.read_csv('/content/drive/MyDrive/meta/Gobal_metadata.csv',names=header_list)\n",
        "#print(labels)\n",
        "train_videos = video_files[:int(0.8*len(video_files))]\n",
        "valid_videos = video_files[int(0.8*len(video_files)):]\n",
        "print(\"train : \" , len(train_videos))\n",
        "print(\"test : \" , len(valid_videos))\n",
        "# train_videos,valid_videos = train_test_split(data,test_size = 0.2)\n",
        "# print(train_videos)\n",
        "\n",
        "print(\"TRAIN: \", \"Real:\",number_of_real_and_fake_videos(train_videos)[0],\" Fake:\",number_of_real_and_fake_videos(train_videos)[1])\n",
        "print(\"TEST: \", \"Real:\",number_of_real_and_fake_videos(valid_videos)[0],\" Fake:\",number_of_real_and_fake_videos(valid_videos)[1])\n",
        "print(\"train : \" , len(train_videos))\n",
        "print(\"test : \" , len(valid_videos))\n",
        "\n",
        "im_size = 112\n",
        "mean = [0.485, 0.456, 0.406]\n",
        "std = [0.229, 0.224, 0.225]\n",
        "\n",
        "train_transforms = transforms.Compose([\n",
        "                                        transforms.ToPILImage(),\n",
        "                                        transforms.Resize((im_size,im_size)),\n",
        "                                        transforms.ToTensor(),\n",
        "                                        transforms.Normalize(mean,std)])\n",
        "\n",
        "test_transforms = transforms.Compose([\n",
        "                                        transforms.ToPILImage(),\n",
        "                                        transforms.Resize((im_size,im_size)),\n",
        "                                        transforms.ToTensor(),\n",
        "                                        transforms.Normalize(mean,std)])\n",
        "train_data = video_dataset(train_videos,labels,sequence_length = 10,transform = train_transforms)\n",
        "#print(train_data)\n",
        "val_data = video_dataset(valid_videos,labels,sequence_length = 10,transform = train_transforms)\n",
        "train_loader = DataLoader(train_data,batch_size = 2,shuffle = True,num_workers = 2)\n",
        "valid_loader = DataLoader(val_data,batch_size = 2,shuffle = True,num_workers = 2)\n",
        "image,label = train_data[0]\n",
        "#im_plot(image[0,:,:,:])"
      ],
      "metadata": {
        "colab": {
          "base_uri": "https://localhost:8080/",
          "height": 0
        },
        "id": "vDtO8P1eLHcP",
        "outputId": "134424dc-7000-4bbd-cd86-bd061f8ffd19"
      },
      "execution_count": 9,
      "outputs": [
        {
          "output_type": "stream",
          "name": "stdout",
          "text": [
            "train :  33\n",
            "test :  9\n",
            "TRAIN:  Real: 2  Fake: 25\n",
            "TEST:  Real: 0  Fake: 9\n",
            "train :  28\n",
            "test :  9\n"
          ]
        }
      ]
    },
    {
      "cell_type": "code",
      "source": [
        "#Model with feature visualization\n",
        "from torch import nn\n",
        "import torchvision.models as models\n",
        "class Model(nn.Module):\n",
        "    def __init__(self, num_classes,latent_dim= 2048, lstm_layers=1 , hidden_dim = 2048, bidirectional = False):\n",
        "        super(Model, self).__init__()\n",
        "        #Residual Network CNN\n",
        "        #model = models.resnext50_32x4d(pretrained=True)\n",
        "        model = models.resnet50(pretrained=True)\n",
        "        self.model = nn.Sequential(*list(model.children())[:-2])\n",
        "        self.lstm = nn.LSTM(latent_dim,hidden_dim, lstm_layers,  bidirectional)\n",
        "        self.relu = nn.LeakyReLU()\n",
        "        self.dp = nn.Dropout(0.4)\n",
        "        self.linear1 = nn.Linear(2048,num_classes)\n",
        "        self.avgpool = nn.AdaptiveAvgPool2d(1)\n",
        "    def forward(self, x):\n",
        "        batch_size,seq_length, c, h, w = x.shape\n",
        "        x = x.view(batch_size * seq_length, c, h, w)\n",
        "        fmap = self.model(x)\n",
        "        x = self.avgpool(fmap)\n",
        "        x = x.view(batch_size,seq_length,2048)\n",
        "        x_lstm,_ = self.lstm(x,None)\n",
        "        return fmap,self.dp(self.linear1(torch.mean(x_lstm,dim = 1)))"
      ],
      "metadata": {
        "id": "AwCqMVElLSFf"
      },
      "execution_count": 19,
      "outputs": []
    },
    {
      "cell_type": "code",
      "source": [
        "model = Model(2).cuda()\n",
        "a,b = model(torch.from_numpy(np.empty((1,20,3,112,112))).type(torch.cuda.FloatTensor))"
      ],
      "metadata": {
        "colab": {
          "base_uri": "https://localhost:8080/",
          "height": 0
        },
        "id": "IrDmTyA1LYFC",
        "outputId": "97ebf89b-2186-43df-ea60-6eaa5dcca71d"
      },
      "execution_count": 20,
      "outputs": [
        {
          "output_type": "stream",
          "name": "stderr",
          "text": [
            "/usr/local/lib/python3.10/dist-packages/torchvision/models/_utils.py:208: UserWarning: The parameter 'pretrained' is deprecated since 0.13 and may be removed in the future, please use 'weights' instead.\n",
            "  warnings.warn(\n",
            "/usr/local/lib/python3.10/dist-packages/torchvision/models/_utils.py:223: UserWarning: Arguments other than a weight enum or `None` for 'weights' are deprecated since 0.13 and may be removed in the future. The current behavior is equivalent to passing `weights=ResNet50_Weights.IMAGENET1K_V1`. You can also use `weights=ResNet50_Weights.DEFAULT` to get the most up-to-date weights.\n",
            "  warnings.warn(msg)\n"
          ]
        }
      ]
    },
    {
      "cell_type": "code",
      "source": [
        "import torch\n",
        "from torch.autograd import Variable\n",
        "import time\n",
        "import os\n",
        "import sys\n",
        "import os\n",
        "def train_epoch(epoch, num_epochs, data_loader, model, criterion, optimizer):\n",
        "    model.train()\n",
        "    losses = AverageMeter()\n",
        "    accuracies = AverageMeter()\n",
        "    t = []\n",
        "    for i, (inputs, targets) in enumerate(data_loader):\n",
        "        if torch.cuda.is_available():\n",
        "            targets = targets.type(torch.cuda.LongTensor)\n",
        "            inputs = inputs.cuda()\n",
        "        _,outputs = model(inputs)\n",
        "        loss  = criterion(outputs,targets.type(torch.cuda.LongTensor))\n",
        "        acc = calculate_accuracy(outputs, targets.type(torch.cuda.LongTensor))\n",
        "        losses.update(loss.item(), inputs.size(0))\n",
        "        accuracies.update(acc, inputs.size(0))\n",
        "        optimizer.zero_grad()\n",
        "        loss.backward()\n",
        "        optimizer.step()\n",
        "        sys.stdout.write(\n",
        "                \"\\r[Epoch %d/%d] [Batch %d / %d] [Loss: %f, Acc: %.2f%%]\"\n",
        "                % (\n",
        "                    epoch,\n",
        "                    num_epochs,\n",
        "                    i,\n",
        "                    len(data_loader),\n",
        "                    losses.avg,\n",
        "                    accuracies.avg))\n",
        "    torch.save(model.state_dict(),'/content/checkpoint.pt')\n",
        "    return losses.avg,accuracies.avg\n",
        "def test(epoch,model, data_loader ,criterion):\n",
        "    model.eval()\n",
        "    losses = AverageMeter()\n",
        "    accuracies = AverageMeter()\n",
        "    pred = []\n",
        "    true = []\n",
        "    count = 0\n",
        "    with torch.no_grad():\n",
        "        for i, (inputs, targets) in enumerate(data_loader):\n",
        "            if torch.cuda.is_available():\n",
        "                targets = targets.cuda().type(torch.cuda.FloatTensor)\n",
        "                inputs = inputs.cuda()\n",
        "            _,outputs = model(inputs)\n",
        "            loss = torch.mean(criterion(outputs, targets.type(torch.cuda.LongTensor)))\n",
        "            acc = calculate_accuracy(outputs,targets.type(torch.cuda.LongTensor))\n",
        "            _,p = torch.max(outputs,1)\n",
        "            true += (targets.type(torch.cuda.LongTensor)).detach().cpu().numpy().reshape(len(targets)).tolist()\n",
        "            pred += p.detach().cpu().numpy().reshape(len(p)).tolist()\n",
        "            losses.update(loss.item(), inputs.size(0))\n",
        "            accuracies.update(acc, inputs.size(0))\n",
        "            print(acc)\n",
        "            sys.stdout.write(\n",
        "                    \"\\r[Batch %d / %d]  [Loss: %f, Acc: %.2f%%]\"\n",
        "                    % (\n",
        "                        i,\n",
        "                        len(data_loader),\n",
        "                        losses.avg,\n",
        "                        accuracies.avg\n",
        "                        )\n",
        "                    )\n",
        "        print('\\nAccuracy {}'.format(accuracies.avg))\n",
        "    return true,pred,losses.avg,accuracies.avg\n",
        "class AverageMeter(object):\n",
        "    \"\"\"Computes and stores the average and current value\"\"\"\n",
        "    def __init__(self):\n",
        "        self.reset()\n",
        "    def reset(self):\n",
        "        self.val = 0\n",
        "        self.avg = 0\n",
        "        self.sum = 0\n",
        "        self.count = 0\n",
        "\n",
        "    def update(self, val, n=1):\n",
        "        self.val = val\n",
        "        self.sum += val * n\n",
        "        self.count += n\n",
        "        self.avg = self.sum / self.count\n",
        "def calculate_accuracy(outputs, targets):\n",
        "    batch_size = targets.size(0)\n",
        "\n",
        "    _, pred = outputs.topk(1, 1, True)\n",
        "    pred = pred.t()\n",
        "    correct = pred.eq(targets.view(1, -1))\n",
        "    n_correct_elems = correct.float().sum().item()\n",
        "    return 100* n_correct_elems / batch_size"
      ],
      "metadata": {
        "id": "X7itTQE0LeI-"
      },
      "execution_count": 29,
      "outputs": []
    },
    {
      "cell_type": "code",
      "source": [
        "import seaborn as sn\n",
        "#Output confusion matrix\n",
        "def print_confusion_matrix(y_true, y_pred):\n",
        "    cm = confusion_matrix(y_true, y_pred)\n",
        "    print('True positive = ', cm[0][0])\n",
        "    print('False positive = ', cm[0][1])\n",
        "    print('False negative = ', cm[1][0])\n",
        "    print('True negative = ', cm[1][1])\n",
        "    print('\\n')\n",
        "    df_cm = pd.DataFrame(cm, range(2), range(2))\n",
        "    sn.set(font_scale=1.4) # for label size\n",
        "    sn.heatmap(df_cm, annot=True, annot_kws={\"size\": 16}) # font size\n",
        "    plt.ylabel('Actual label', size = 20)\n",
        "    plt.xlabel('Predicted label', size = 20)\n",
        "    plt.xticks(np.arange(2), ['Fake', 'Real'], size = 16)\n",
        "    plt.yticks(np.arange(2), ['Fake', 'Real'], size = 16)\n",
        "    plt.ylim([2, 0])\n",
        "    plt.show()\n",
        "    calculated_acc = (cm[0][0]+cm[1][1])/(cm[0][0]+cm[0][1]+cm[1][0]+ cm[1][1])\n",
        "    print(\"Calculated Accuracy\",calculated_acc*100)"
      ],
      "metadata": {
        "id": "DpZJ9Tl5LkrN"
      },
      "execution_count": 26,
      "outputs": []
    },
    {
      "cell_type": "code",
      "source": [
        "def plot_loss(train_loss_avg,test_loss_avg,num_epochs):\n",
        "  loss_train = train_loss_avg\n",
        "  loss_val = test_loss_avg\n",
        "  print(num_epochs)\n",
        "  epochs = range(1,num_epochs+1)\n",
        "  plt.plot(epochs, loss_train, 'g', label='Training loss')\n",
        "  plt.plot(epochs, loss_val, 'b', label='validation loss')\n",
        "  plt.title('Training and Validation loss')\n",
        "  plt.xlabel('Epochs')\n",
        "  plt.ylabel('Loss')\n",
        "  plt.legend()\n",
        "  plt.show()\n",
        "def plot_accuracy(train_accuracy,test_accuracy,num_epochs):\n",
        "  loss_train = train_accuracy\n",
        "  loss_val = test_accuracy\n",
        "  epochs = range(1,num_epochs+1)\n",
        "  plt.plot(epochs, loss_train, 'g', label='Training accuracy')\n",
        "  plt.plot(epochs, loss_val, 'b', label='validation accuracy')\n",
        "  plt.title('Training and Validation accuracy')\n",
        "  plt.xlabel('Epochs')\n",
        "  plt.ylabel('Accuracy')\n",
        "  plt.legend()\n",
        "  plt.show()"
      ],
      "metadata": {
        "id": "_WdL33-xLoUe"
      },
      "execution_count": 27,
      "outputs": []
    },
    {
      "cell_type": "code",
      "source": [
        "from sklearn.metrics import confusion_matrix\n",
        "#learning rate\n",
        "lr = 1e-5#0.001\n",
        "#number of epochs\n",
        "num_epochs = 10\n",
        "\n",
        "optimizer = torch.optim.Adam(model.parameters(), lr= lr,weight_decay = 1e-5)\n",
        "\n",
        "#class_weights = torch.from_numpy(np.asarray([1,15])).type(torch.FloatTensor).cuda()\n",
        "#criterion = nn.CrossEntropyLoss(weight = class_weights).cuda()\n",
        "criterion = nn.CrossEntropyLoss().cuda()\n",
        "train_loss_avg =[]\n",
        "train_accuracy = []\n",
        "test_loss_avg = []\n",
        "test_accuracy = []\n",
        "for epoch in range(1,num_epochs+1):\n",
        "    l, acc = train_epoch(epoch,num_epochs,train_loader,model,criterion,optimizer)\n",
        "    train_loss_avg.append(l)\n",
        "    train_accuracy.append(acc)\n",
        "    true,pred,tl,t_acc = test(epoch,model,valid_loader,criterion)\n",
        "    test_loss_avg.append(tl)\n",
        "    test_accuracy.append(t_acc)\n",
        "plot_loss(train_loss_avg,test_loss_avg,len(train_loss_avg))\n",
        "plot_accuracy(train_accuracy,test_accuracy,len(train_accuracy))\n",
        "print(confusion_matrix(true,pred))\n",
        "print(\"true=\",true)\n",
        "print(\"pred=\",pred)\n",
        "print_confusion_matrix(true,pred)"
      ],
      "metadata": {
        "colab": {
          "base_uri": "https://localhost:8080/",
          "height": 2516
        },
        "id": "iLB7pvfYLsAF",
        "outputId": "d7796fe6-9159-4e56-e69a-86b6aafa8edf"
      },
      "execution_count": 31,
      "outputs": [
        {
          "output_type": "stream",
          "name": "stdout",
          "text": [
            "[Epoch 1/10] [Batch 13 / 14] [Loss: 0.092195, Acc: 100.00%]100.0\n",
            "[Batch 0 / 5]  [Loss: 0.004593, Acc: 100.00%]100.0\n",
            "[Batch 1 / 5]  [Loss: 0.003911, Acc: 100.00%]100.0\n",
            "[Batch 2 / 5]  [Loss: 0.004046, Acc: 100.00%]100.0\n",
            "[Batch 3 / 5]  [Loss: 0.006009, Acc: 100.00%]0.0\n",
            "[Batch 4 / 5]  [Loss: 0.085876, Acc: 88.89%]\n",
            "Accuracy 88.88888888888889\n",
            "[Epoch 2/10] [Batch 13 / 14] [Loss: 0.229679, Acc: 100.00%]100.0\n",
            "[Batch 0 / 5]  [Loss: 0.010602, Acc: 100.00%]100.0\n",
            "[Batch 1 / 5]  [Loss: 0.006861, Acc: 100.00%]100.0\n",
            "[Batch 2 / 5]  [Loss: 0.005491, Acc: 100.00%]100.0\n",
            "[Batch 3 / 5]  [Loss: 0.091323, Acc: 100.00%]100.0\n",
            "[Batch 4 / 5]  [Loss: 0.081209, Acc: 100.00%]\n",
            "Accuracy 100.0\n",
            "[Epoch 3/10] [Batch 13 / 14] [Loss: 0.115871, Acc: 100.00%]100.0\n",
            "[Batch 0 / 5]  [Loss: 0.007055, Acc: 100.00%]100.0\n",
            "[Batch 1 / 5]  [Loss: 0.007273, Acc: 100.00%]50.0\n",
            "[Batch 2 / 5]  [Loss: 0.131969, Acc: 83.33%]100.0\n",
            "[Batch 3 / 5]  [Loss: 0.101000, Acc: 87.50%]100.0\n",
            "[Batch 4 / 5]  [Loss: 0.089849, Acc: 88.89%]\n",
            "Accuracy 88.88888888888889\n",
            "[Epoch 4/10] [Batch 13 / 14] [Loss: 0.129469, Acc: 96.43%]100.0\n",
            "[Batch 0 / 5]  [Loss: 0.005772, Acc: 100.00%]100.0\n",
            "[Batch 1 / 5]  [Loss: 0.006611, Acc: 100.00%]50.0\n",
            "[Batch 2 / 5]  [Loss: 0.154815, Acc: 83.33%]100.0\n",
            "[Batch 3 / 5]  [Loss: 0.117404, Acc: 87.50%]100.0\n",
            "[Batch 4 / 5]  [Loss: 0.106157, Acc: 88.89%]\n",
            "Accuracy 88.88888888888889\n",
            "[Epoch 5/10] [Batch 13 / 14] [Loss: 0.036021, Acc: 100.00%]100.0\n",
            "[Batch 0 / 5]  [Loss: 0.001190, Acc: 100.00%]100.0\n",
            "[Batch 1 / 5]  [Loss: 0.000883, Acc: 100.00%]100.0\n",
            "[Batch 2 / 5]  [Loss: 0.002879, Acc: 100.00%]50.0\n",
            "[Batch 3 / 5]  [Loss: 0.120961, Acc: 87.50%]100.0\n",
            "[Batch 4 / 5]  [Loss: 0.109185, Acc: 88.89%]\n",
            "Accuracy 88.88888888888889\n",
            "[Epoch 6/10] [Batch 13 / 14] [Loss: 0.137347, Acc: 100.00%]100.0\n",
            "[Batch 0 / 5]  [Loss: 0.002575, Acc: 100.00%]50.0\n",
            "[Batch 1 / 5]  [Loss: 0.206170, Acc: 75.00%]100.0\n",
            "[Batch 2 / 5]  [Loss: 0.139243, Acc: 83.33%]100.0\n",
            "[Batch 3 / 5]  [Loss: 0.105974, Acc: 87.50%]100.0\n",
            "[Batch 4 / 5]  [Loss: 0.095641, Acc: 88.89%]\n",
            "Accuracy 88.88888888888889\n",
            "[Epoch 7/10] [Batch 13 / 14] [Loss: 0.112606, Acc: 100.00%]100.0\n",
            "[Batch 0 / 5]  [Loss: 0.005938, Acc: 100.00%]100.0\n",
            "[Batch 1 / 5]  [Loss: 0.005783, Acc: 100.00%]100.0\n",
            "[Batch 2 / 5]  [Loss: 0.004748, Acc: 100.00%]50.0\n",
            "[Batch 3 / 5]  [Loss: 0.116797, Acc: 87.50%]100.0\n",
            "[Batch 4 / 5]  [Loss: 0.103832, Acc: 88.89%]\n",
            "Accuracy 88.88888888888889\n",
            "[Epoch 8/10] [Batch 13 / 14] [Loss: 0.136100, Acc: 100.00%]100.0\n",
            "[Batch 0 / 5]  [Loss: 0.010031, Acc: 100.00%]100.0\n",
            "[Batch 1 / 5]  [Loss: 0.010489, Acc: 100.00%]100.0\n",
            "[Batch 2 / 5]  [Loss: 0.010555, Acc: 100.00%]100.0\n",
            "[Batch 3 / 5]  [Loss: 0.009784, Acc: 100.00%]0.0\n",
            "[Batch 4 / 5]  [Loss: 0.116498, Acc: 88.89%]\n",
            "Accuracy 88.88888888888889\n",
            "[Epoch 9/10] [Batch 13 / 14] [Loss: 0.140859, Acc: 100.00%]100.0\n",
            "[Batch 0 / 5]  [Loss: 0.005686, Acc: 100.00%]100.0\n",
            "[Batch 1 / 5]  [Loss: 0.008451, Acc: 100.00%]50.0\n",
            "[Batch 2 / 5]  [Loss: 0.177838, Acc: 83.33%]100.0\n",
            "[Batch 3 / 5]  [Loss: 0.134782, Acc: 87.50%]100.0\n",
            "[Batch 4 / 5]  [Loss: 0.119816, Acc: 88.89%]\n",
            "Accuracy 88.88888888888889\n",
            "[Epoch 10/10] [Batch 13 / 14] [Loss: 0.094488, Acc: 100.00%]50.0\n",
            "[Batch 0 / 5]  [Loss: 0.837240, Acc: 50.00%]100.0\n",
            "[Batch 1 / 5]  [Loss: 0.420520, Acc: 75.00%]100.0\n",
            "[Batch 2 / 5]  [Loss: 0.280400, Acc: 83.33%]100.0\n",
            "[Batch 3 / 5]  [Loss: 0.211391, Acc: 87.50%]100.0\n",
            "[Batch 4 / 5]  [Loss: 0.188180, Acc: 88.89%]\n",
            "Accuracy 88.88888888888889\n",
            "10\n"
          ]
        },
        {
          "output_type": "display_data",
          "data": {
            "text/plain": [
              "<Figure size 640x480 with 1 Axes>"
            ],
            "image/png": "[encoded data removed]"
          },
          "metadata": {}
        },
        {
          "output_type": "display_data",
          "data": {
            "text/plain": [
              "<Figure size 640x480 with 1 Axes>"
            ],
            "image/png": "[encoded data removed]"
          },
          "metadata": {}
        },
        {
          "output_type": "stream",
          "name": "stdout",
          "text": [
            "[[8 1]\n",
            " [0 0]]\n",
            "true= [0, 0, 0, 0, 0, 0, 0, 0, 0]\n",
            "pred= [0, 1, 0, 0, 0, 0, 0, 0, 0]\n",
            "True positive =  8\n",
            "False positive =  1\n",
            "False negative =  0\n",
            "True negative =  0\n",
            "\n",
            "\n"
          ]
        },
        {
          "output_type": "display_data",
          "data": {
            "text/plain": [
              "<Figure size 640x480 with 2 Axes>"
            ],
            "image/png": "[encoded data removed]"
          },
          "metadata": {}
        },
        {
          "output_type": "stream",
          "name": "stdout",
          "text": [
            "Calculated Accuracy 88.88888888888889\n"
          ]
        }
      ]
    }
  ]
}